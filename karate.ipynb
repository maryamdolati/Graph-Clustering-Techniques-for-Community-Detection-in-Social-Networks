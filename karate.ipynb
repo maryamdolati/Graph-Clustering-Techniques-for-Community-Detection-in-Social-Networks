{
  "cells": [
    {
      "cell_type": "code",
      "execution_count": null,
      "id": "a8f7e3ca",
      "metadata": {
        "colab": {
          "referenced_widgets": [
            "27d88169fc8a462d9b7dceb795646e57",
            "6716c674494346ba8de2efd144fe15b3"
          ]
        },
        "id": "a8f7e3ca",
        "outputId": "9b076f67-0f32-4ba8-e60b-1c0867993030"
      },
      "outputs": [
        {
          "name": "stderr",
          "output_type": "stream",
          "text": [
            "C:\\Users\\AI-BIO\\AppData\\Roaming\\Python\\Python311\\site-packages\\sklearn\\cluster\\_kmeans.py:1426: UserWarning: KMeans is known to have a memory leak on Windows with MKL, when there are less chunks than available threads. You can avoid it by setting the environment variable OMP_NUM_THREADS=1.\n",
            "  warnings.warn(\n",
            "C:\\Users\\AI-BIO\\AppData\\Roaming\\Python\\Python311\\site-packages\\sklearn\\cluster\\_kmeans.py:1426: UserWarning: KMeans is known to have a memory leak on Windows with MKL, when there are less chunks than available threads. You can avoid it by setting the environment variable OMP_NUM_THREADS=1.\n",
            "  warnings.warn(\n",
            "C:\\Users\\AI-BIO\\AppData\\Roaming\\Python\\Python311\\site-packages\\sklearn\\cluster\\_kmeans.py:1426: UserWarning: KMeans is known to have a memory leak on Windows with MKL, when there are less chunks than available threads. You can avoid it by setting the environment variable OMP_NUM_THREADS=1.\n",
            "  warnings.warn(\n"
          ]
        },
        {
          "data": {
            "application/vnd.jupyter.widget-view+json": {
              "model_id": "27d88169fc8a462d9b7dceb795646e57",
              "version_major": 2,
              "version_minor": 0
            },
            "text/plain": [
              "Computing transition probabilities:   0%|          | 0/34 [00:00<?, ?it/s]"
            ]
          },
          "metadata": {},
          "output_type": "display_data"
        },
        {
          "data": {
            "application/vnd.jupyter.widget-view+json": {
              "model_id": "6716c674494346ba8de2efd144fe15b3",
              "version_major": 2,
              "version_minor": 0
            },
            "text/plain": [
              "Computing transition probabilities:   0%|          | 0/34 [00:00<?, ?it/s]"
            ]
          },
          "metadata": {},
          "output_type": "display_data"
        },
        {
          "name": "stdout",
          "output_type": "stream",
          "text": [
            "                         Modularity       NMI  Conductance       ARI\n",
            "KMeans                     0.085034  0.131983     0.213699  0.021601\n",
            "Hierarchical Clustering    0.085034  0.131983     0.213699  0.021601\n",
            "Spectral Clustering        0.157971  0.096232     0.359211  0.098088\n",
            "Louvain Method             0.427672  0.582342     0.352778  0.446199\n",
            "DeepWalk                   0.403628  0.837169     0.128289  0.882258\n",
            "Node2Vec                   0.403628  0.837169     0.128289  0.882258\n",
            "GCN                        0.085034  0.131983     0.213699  0.021601\n"
          ]
        },
        {
          "name": "stderr",
          "output_type": "stream",
          "text": [
            "C:\\Users\\AI-BIO\\AppData\\Roaming\\Python\\Python311\\site-packages\\sklearn\\cluster\\_kmeans.py:1426: UserWarning: KMeans is known to have a memory leak on Windows with MKL, when there are less chunks than available threads. You can avoid it by setting the environment variable OMP_NUM_THREADS=1.\n",
            "  warnings.warn(\n",
            "C:\\Users\\AI-BIO\\AppData\\Roaming\\Python\\Python311\\site-packages\\sklearn\\cluster\\_kmeans.py:1426: UserWarning: KMeans is known to have a memory leak on Windows with MKL, when there are less chunks than available threads. You can avoid it by setting the environment variable OMP_NUM_THREADS=1.\n",
            "  warnings.warn(\n"
          ]
        }
      ],
      "source": [
        "import networkx as nx\n",
        "import numpy as np\n",
        "from sklearn.cluster import KMeans, AgglomerativeClustering, SpectralClustering\n",
        "from sklearn.preprocessing import StandardScaler\n",
        "from sklearn.metrics import normalized_mutual_info_score as NMI, adjusted_rand_score as ARI\n",
        "import torch\n",
        "import torch.nn.functional as F\n",
        "from torch_geometric.nn import GCNConv\n",
        "from torch_geometric.data import Data\n",
        "from torch_geometric.utils import from_networkx\n",
        "from community import community_louvain\n",
        "from node2vec import Node2Vec\n",
        "import pandas as pd\n",
        "\n",
        "\n",
        "G = nx.karate_club_graph()\n",
        "\n",
        "\n",
        "node_features = np.random.rand(G.number_of_nodes(), 16)\n",
        "\n",
        "scaler = StandardScaler()\n",
        "node_features = scaler.fit_transform(node_features)\n",
        "\n",
        "data = from_networkx(G)\n",
        "data.x = torch.tensor(node_features, dtype=torch.float)\n",
        "\n",
        "\n",
        "class GCN(torch.nn.Module):\n",
        "    def __init__(self, in_channels, out_channels):\n",
        "        super(GCN, self).__init__()\n",
        "        self.conv1 = GCNConv(in_channels, 16)\n",
        "        self.conv2 = GCNConv(16, out_channels)\n",
        "\n",
        "    def forward(self, x, edge_index):\n",
        "        x = self.conv1(x, edge_index)\n",
        "        x = F.relu(x)\n",
        "        x = self.conv2(x, edge_index)\n",
        "        return x\n",
        "\n",
        "def compute_node_embeddings(data, num_clusters):\n",
        "    model = GCN(data.x.shape[1], num_clusters)\n",
        "    optimizer = torch.optim.Adam(model.parameters(), lr=0.01)\n",
        "    criterion = torch.nn.CrossEntropyLoss()\n",
        "    model.train()\n",
        "\n",
        "    with torch.no_grad():\n",
        "        initial_embeddings = model(data.x, data.edge_index)\n",
        "        kmeans = KMeans(n_clusters=num_clusters).fit(initial_embeddings.detach().numpy())\n",
        "        labels = torch.tensor(kmeans.labels_, dtype=torch.long)\n",
        "\n",
        "    for epoch in range(200):\n",
        "        optimizer.zero_grad()\n",
        "        out = model(data.x, data.edge_index)\n",
        "        loss = criterion(out, labels)\n",
        "        loss.backward()\n",
        "        optimizer.step()\n",
        "\n",
        "    model.eval()\n",
        "    with torch.no_grad():\n",
        "        embeddings = model(data.x, data.edge_index).numpy()\n",
        "    return embeddings\n",
        "\n",
        "def conductance(G, clusters):\n",
        "    total_cut = 0\n",
        "    for cluster in clusters:\n",
        "        cut = nx.algorithms.cuts.cut_size(G, cluster)\n",
        "        volume = sum(dict(G.degree(cluster)).values())\n",
        "        if volume == 0:\n",
        "            continue\n",
        "        total_cut += cut / volume\n",
        "    return total_cut / len(clusters)\n",
        "\n",
        "num_clusters = 2\n",
        "\n",
        "\n",
        "gcn_embeddings = compute_node_embeddings(data, num_clusters)\n",
        "\n",
        "\n",
        "kmeans = KMeans(n_clusters=num_clusters).fit(gcn_embeddings)\n",
        "hierarchical = AgglomerativeClustering(n_clusters=num_clusters).fit(gcn_embeddings)\n",
        "spectral = SpectralClustering(n_clusters=num_clusters, affinity='nearest_neighbors').fit(gcn_embeddings)\n",
        "louvain = community_louvain.best_partition(G)\n",
        "\n",
        "\n",
        "def deepwalk_embedding(G, dimensions=64, walk_length=30, num_walks=200, workers=4):\n",
        "    node2vec = Node2Vec(G, dimensions=dimensions, walk_length=walk_length, num_walks=num_walks, workers=workers)\n",
        "    model = node2vec.fit(window=10, min_count=1)\n",
        "    embeddings = np.array([model.wv[str(node)] for node in G.nodes()])\n",
        "    return embeddings\n",
        "\n",
        "deepwalk_embeddings = deepwalk_embedding(G)\n",
        "\n",
        "\n",
        "node2vec = Node2Vec(G, dimensions=64, walk_length=30, num_walks=200, workers=4).fit()\n",
        "node2vec_embeddings = np.array([node2vec.wv[str(node)] for node in G.nodes()])\n",
        "\n",
        "\n",
        "deepwalk_clusters = KMeans(n_clusters=num_clusters).fit_predict(deepwalk_embeddings)\n",
        "node2vec_clusters = KMeans(n_clusters=num_clusters).fit_predict(node2vec_embeddings)\n",
        "\n",
        "\n",
        "ground_truth = np.array([0 if G.nodes[i]['club'] == 'Mr. Hi' else 1 for i in G.nodes()])\n",
        "\n",
        "\n",
        "def compute_metrics(G, labels, ground_truth):\n",
        "    modularity = nx.algorithms.community.quality.modularity(G, [list(np.where(labels == c)[0]) for c in np.unique(labels)])\n",
        "    nmi = NMI(ground_truth, labels)\n",
        "    ari = ARI(ground_truth, labels)\n",
        "    conductance_value = conductance(G, [list(np.where(labels == c)[0]) for c in np.unique(labels)])\n",
        "    return modularity, nmi, conductance_value, ari\n",
        "\n",
        "metrics = {\n",
        "    'KMeans': compute_metrics(G, kmeans.labels_, ground_truth),\n",
        "    'Hierarchical Clustering': compute_metrics(G, hierarchical.labels_, ground_truth),\n",
        "    'Spectral Clustering': compute_metrics(G, spectral.labels_, ground_truth),\n",
        "    'Louvain Method': compute_metrics(G, np.array(list(louvain.values())), ground_truth),\n",
        "    'DeepWalk': compute_metrics(G, deepwalk_clusters, ground_truth),\n",
        "    'Node2Vec': compute_metrics(G, node2vec_clusters, ground_truth),\n",
        "    'GCN': compute_metrics(G, kmeans.labels_, ground_truth)\n",
        "}\n",
        "\n",
        "\n",
        "df = pd.DataFrame(metrics, index=['Modularity', 'NMI', 'Conductance', 'ARI']).transpose()\n",
        "\n",
        "\n",
        "print(df)\n"
      ]
    }
  ],
  "metadata": {
    "kernelspec": {
      "display_name": "Python 3 (ipykernel)",
      "language": "python",
      "name": "python3"
    },
    "language_info": {
      "codemirror_mode": {
        "name": "ipython",
        "version": 3
      },
      "file_extension": ".py",
      "mimetype": "text/x-python",
      "name": "python",
      "nbconvert_exporter": "python",
      "pygments_lexer": "ipython3",
      "version": "3.11.5"
    },
    "colab": {
      "provenance": []
    }
  },
  "nbformat": 4,
  "nbformat_minor": 5
}