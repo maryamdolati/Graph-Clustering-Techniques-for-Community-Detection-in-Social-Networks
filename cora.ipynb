{
  "cells": [
    {
      "cell_type": "code",
      "execution_count": null,
      "id": "aa319842",
      "metadata": {
        "colab": {
          "referenced_widgets": [
            "3f2bfa586ceb439c85c8ccbdbae13a2f",
            "d3f7a40c95374d178fe686190c7212a5"
          ]
        },
        "id": "aa319842",
        "outputId": "660793aa-3de9-493d-a019-d14e12b96726"
      },
      "outputs": [
        {
          "data": {
            "application/vnd.jupyter.widget-view+json": {
              "model_id": "3f2bfa586ceb439c85c8ccbdbae13a2f",
              "version_major": 2,
              "version_minor": 0
            },
            "text/plain": [
              "Computing transition probabilities:   0%|          | 0/2708 [00:00<?, ?it/s]"
            ]
          },
          "metadata": {},
          "output_type": "display_data"
        },
        {
          "data": {
            "application/vnd.jupyter.widget-view+json": {
              "model_id": "d3f7a40c95374d178fe686190c7212a5",
              "version_major": 2,
              "version_minor": 0
            },
            "text/plain": [
              "Computing transition probabilities:   0%|          | 0/2708 [00:00<?, ?it/s]"
            ]
          },
          "metadata": {},
          "output_type": "display_data"
        },
        {
          "name": "stdout",
          "output_type": "stream",
          "text": [
            "                         Modularity       NMI  Conductance       ARI\n",
            "KMeans                     0.338124  0.039522     0.503807  0.028320\n",
            "Hierarchical Clustering    0.321444  0.035691     0.533756  0.023483\n",
            "Spectral Clustering        0.320906  0.039848     0.514364  0.020454\n",
            "Louvain Method             0.812417  0.453054     0.032918  0.228396\n",
            "DeepWalk                   0.735419  0.459246     0.080744  0.397011\n",
            "Node2Vec                   0.721063  0.386686     0.130607  0.313690\n",
            "GCN                        0.338124  0.039522     0.503807  0.028320\n"
          ]
        }
      ],
      "source": [
        "import numpy as np\n",
        "import torch\n",
        "import torch.nn.functional as F\n",
        "from torch_geometric.datasets import Planetoid\n",
        "from torch_geometric.nn import GCNConv\n",
        "from sklearn.cluster import KMeans, AgglomerativeClustering, SpectralClustering\n",
        "from sklearn.metrics import normalized_mutual_info_score as NMI, adjusted_rand_score as ARI\n",
        "import networkx as nx\n",
        "from torch_geometric.utils import to_networkx\n",
        "from community import community_louvain\n",
        "from node2vec import Node2Vec\n",
        "import pandas as pd\n",
        "\n",
        "#  Cora\n",
        "dataset = Planetoid(root='/tmp/Cora', name='Cora')\n",
        "data = dataset[0]\n",
        "\n",
        "\n",
        "G = to_networkx(data, to_undirected=True)\n",
        "\n",
        "\n",
        "node_features = data.x.numpy()\n",
        "num_clusters = 7\n",
        "\n",
        "\n",
        "class GCN(torch.nn.Module):\n",
        "    def __init__(self, in_channels, out_channels):\n",
        "        super(GCN, self).__init__()\n",
        "        self.conv1 = GCNConv(in_channels, 16)\n",
        "        self.conv2 = GCNConv(16, out_channels)\n",
        "\n",
        "    def forward(self, x, edge_index):\n",
        "        x = self.conv1(x, edge_index)\n",
        "        x = F.relu(x)\n",
        "        x = self.conv2(x, edge_index)\n",
        "        return x\n",
        "\n",
        "def compute_node_embeddings(data, num_clusters):\n",
        "    model = GCN(data.num_node_features, num_clusters)\n",
        "    optimizer = torch.optim.Adam(model.parameters(), lr=0.01)\n",
        "    criterion = torch.nn.CrossEntropyLoss()\n",
        "    model.train()\n",
        "\n",
        "    with torch.no_grad():\n",
        "        initial_embeddings = model(data.x, data.edge_index)\n",
        "        kmeans = KMeans(n_clusters=num_clusters).fit(initial_embeddings.detach().numpy())\n",
        "        labels = torch.tensor(kmeans.labels_, dtype=torch.long)\n",
        "\n",
        "    for epoch in range(200):\n",
        "        optimizer.zero_grad()\n",
        "        out = model(data.x, data.edge_index)\n",
        "        loss = criterion(out, labels)\n",
        "        loss.backward()\n",
        "        optimizer.step()\n",
        "\n",
        "    model.eval()\n",
        "    with torch.no_grad():\n",
        "        embeddings = model(data.x, data.edge_index).numpy()\n",
        "    return embeddings\n",
        "\n",
        "def conductance(G, clusters):\n",
        "    total_cut = 0\n",
        "    for cluster in clusters:\n",
        "        cut = nx.algorithms.cuts.cut_size(G, cluster)\n",
        "        volume = sum(dict(G.degree(cluster)).values())\n",
        "        if volume == 0:\n",
        "            continue\n",
        "        total_cut += cut / volume\n",
        "    return total_cut / len(clusters)\n",
        "\n",
        "\n",
        "gcn_embeddings = compute_node_embeddings(data, num_clusters)\n",
        "\n",
        "\n",
        "kmeans = KMeans(n_clusters=num_clusters).fit(gcn_embeddings)\n",
        "hierarchical = AgglomerativeClustering(n_clusters=num_clusters).fit(gcn_embeddings)\n",
        "spectral = SpectralClustering(n_clusters=num_clusters, affinity='nearest_neighbors').fit(gcn_embeddings)\n",
        "louvain = community_louvain.best_partition(G)\n",
        "\n",
        "\n",
        "def deepwalk_embedding(G, dimensions=64, walk_length=30, num_walks=200, workers=4):\n",
        "    node2vec = Node2Vec(G, dimensions=dimensions, walk_length=walk_length, num_walks=num_walks, workers=workers)\n",
        "    model = node2vec.fit(window=10, min_count=1)\n",
        "    embeddings = np.array([model.wv[str(node)] for node in G.nodes()])\n",
        "    return embeddings\n",
        "\n",
        "deepwalk_embeddings = deepwalk_embedding(G)\n",
        "\n",
        "\n",
        "node2vec = Node2Vec(G, dimensions=64, walk_length=30, num_walks=200, workers=4).fit()\n",
        "node2vec_embeddings = np.array([node2vec.wv[str(node)] for node in G.nodes()])\n",
        "\n",
        "\n",
        "deepwalk_clusters = KMeans(n_clusters=num_clusters).fit_predict(deepwalk_embeddings)\n",
        "node2vec_clusters = KMeans(n_clusters=num_clusters).fit_predict(node2vec_embeddings)\n",
        "\n",
        "\n",
        "ground_truth = data.y.numpy()\n",
        "\n",
        "\n",
        "def compute_metrics(G, labels, ground_truth):\n",
        "    modularity = nx.algorithms.community.quality.modularity(G, [list(np.where(labels == c)[0]) for c in np.unique(labels)])\n",
        "    nmi = NMI(ground_truth, labels)\n",
        "    ari = ARI(ground_truth, labels)\n",
        "    conductance_value = conductance(G, [list(np.where(labels == c)[0]) for c in np.unique(labels)])\n",
        "    return modularity, nmi, conductance_value, ari\n",
        "\n",
        "metrics = {\n",
        "    'KMeans': compute_metrics(G, kmeans.labels_, ground_truth),\n",
        "    'Hierarchical Clustering': compute_metrics(G, hierarchical.labels_, ground_truth),\n",
        "    'Spectral Clustering': compute_metrics(G, spectral.labels_, ground_truth),\n",
        "    'Louvain Method': compute_metrics(G, np.array(list(louvain.values())), ground_truth),\n",
        "    'DeepWalk': compute_metrics(G, deepwalk_clusters, ground_truth),\n",
        "    'Node2Vec': compute_metrics(G, node2vec_clusters, ground_truth),\n",
        "    'GCN': compute_metrics(G, kmeans.labels_, ground_truth)\n",
        "}\n",
        "\n",
        "df = pd.DataFrame(metrics, index=['Modularity', 'NMI', 'Conductance', 'ARI']).transpose()\n",
        "\n",
        "\n",
        "print(df)\n"
      ]
    }
  ],
  "metadata": {
    "kernelspec": {
      "display_name": "Python 3 (ipykernel)",
      "language": "python",
      "name": "python3"
    },
    "language_info": {
      "codemirror_mode": {
        "name": "ipython",
        "version": 3
      },
      "file_extension": ".py",
      "mimetype": "text/x-python",
      "name": "python",
      "nbconvert_exporter": "python",
      "pygments_lexer": "ipython3",
      "version": "3.11.5"
    },
    "colab": {
      "provenance": []
    }
  },
  "nbformat": 4,
  "nbformat_minor": 5
}